{
 "cells": [
  {
   "cell_type": "code",
   "execution_count": 3,
   "metadata": {
    "collapsed": true
   },
   "outputs": [],
   "source": [
    "import torch\n",
    "import os"
   ]
  },
  {
   "cell_type": "code",
   "execution_count": 12,
   "outputs": [
    {
     "name": "stdout",
     "output_type": "stream",
     "text": [
      "tensor([[3, 0, 3, 7, 3],\n",
      "        [2, 5, 5, 1, 2],\n",
      "        [6, 5, 3, 3, 2],\n",
      "        [3, 3, 5, 4, 9],\n",
      "        [3, 5, 3, 9, 0]], dtype=torch.int32)\n"
     ]
    }
   ],
   "source": [
    "def read_file(name):\n",
    "    base_path = os.getcwd()\n",
    "    file_path = os.path.join(base_path, name)\n",
    "    matrix = []\n",
    "    with open(file_path) as f:\n",
    "        line = []\n",
    "        for rline in f:\n",
    "            rline = rline.strip()\n",
    "            if rline:\n",
    "                matrix.append([int(i) for i in list(rline)])\n",
    "\n",
    "    return torch.tensor(matrix, dtype=torch.int)\n",
    "\n",
    "t = read_file('example.txt')\n",
    "t_flip = torch.flip(t, dims=[0, 1])\n",
    "print(t)"
   ],
   "metadata": {
    "collapsed": false
   }
  },
  {
   "cell_type": "code",
   "execution_count": 13,
   "outputs": [
    {
     "data": {
      "text/plain": "tensor([[ 0,  0,  0,  0,  0],\n        [-1,  5,  2, -6, -1],\n        [ 3,  5,  0, -4, -1],\n        [ 0,  3,  2, -3,  6],\n        [ 0,  5,  0,  2, -3]], dtype=torch.int32)"
     },
     "execution_count": 13,
     "metadata": {},
     "output_type": "execute_result"
    }
   ],
   "source": [
    "t - t[0, :]"
   ],
   "metadata": {
    "collapsed": false
   }
  },
  {
   "cell_type": "code",
   "execution_count": null,
   "outputs": [],
   "source": [],
   "metadata": {
    "collapsed": false
   }
  }
 ],
 "metadata": {
  "kernelspec": {
   "display_name": "Python 3",
   "language": "python",
   "name": "python3"
  },
  "language_info": {
   "codemirror_mode": {
    "name": "ipython",
    "version": 2
   },
   "file_extension": ".py",
   "mimetype": "text/x-python",
   "name": "python",
   "nbconvert_exporter": "python",
   "pygments_lexer": "ipython2",
   "version": "2.7.6"
  }
 },
 "nbformat": 4,
 "nbformat_minor": 0
}
